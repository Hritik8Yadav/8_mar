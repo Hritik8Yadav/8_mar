{
 "cells": [
  {
   "cell_type": "code",
   "execution_count": 1,
   "id": "8fb37612-d56b-4eb6-a50d-b3d688b3a272",
   "metadata": {},
   "outputs": [
    {
     "data": {
      "text/plain": [
       "'Ans1: Probablity density function is a function which defines the distribution of the probablity of the continuous\\nvariable. It denotes the curve under which the area of curve denotes the probablity sum as 1. We can easily find the \\nprobablity of the liklihood whith the help of the area upto certain range.\\n'"
      ]
     },
     "execution_count": 1,
     "metadata": {},
     "output_type": "execute_result"
    }
   ],
   "source": [
    "'''Ans1: Probablity density function is a function which defines the distribution of the probablity of the continuous\n",
    "variable. It denotes the curve under which the area of curve denotes the probablity sum as 1. We can easily find the \n",
    "probablity of the liklihood whith the help of the area upto certain range.\n",
    "'''"
   ]
  },
  {
   "cell_type": "code",
   "execution_count": 3,
   "id": "9cde27b7-7cb1-47ac-9023-14d446185de1",
   "metadata": {},
   "outputs": [
    {
     "data": {
      "text/plain": [
       "'Ans2: The different types of probablity distributions are:\\ni. Normal Distibution\\nii. Binomial Distribution\\niii. Bernoulli distribution\\niv. Poisson distribution\\nv. log Normal distribution\\nvi. Uniform Distributon\\n'"
      ]
     },
     "execution_count": 3,
     "metadata": {},
     "output_type": "execute_result"
    }
   ],
   "source": [
    "'''Ans2: The different types of probablity distributions are:\n",
    "i. Normal Distibution\n",
    "ii. Binomial Distribution\n",
    "iii. Bernoulli distribution\n",
    "iv. Poisson distribution\n",
    "v. log Normal distribution\n",
    "vi. Uniform Distributon\n",
    "'''"
   ]
  },
  {
   "cell_type": "code",
   "execution_count": 21,
   "id": "5cc86ddc-130e-4844-93ad-0838133dae95",
   "metadata": {},
   "outputs": [],
   "source": [
    "import math\n",
    "import numpy as np\n",
    "import matplotlib.pyplot as pt"
   ]
  },
  {
   "cell_type": "code",
   "execution_count": 9,
   "id": "5bce55a1-2d2d-4397-9a59-10e2eb50b6c3",
   "metadata": {},
   "outputs": [
    {
     "data": {
      "text/plain": [
       "0.0044318484119380075"
      ]
     },
     "execution_count": 9,
     "metadata": {},
     "output_type": "execute_result"
    }
   ],
   "source": [
    "#Ans3:\n",
    "def normal_pdf(x,sigma,mu):\n",
    "    power=-((1/2)*((x-mu)**2/(sigma**2)))\n",
    "    epower=math.exp(power)\n",
    "    answer=(1/(sigma*(math.sqrt(2*math.pi))))*epower\n",
    "    return answer\n",
    "normal_pdf(3,1,0)"
   ]
  },
  {
   "cell_type": "code",
   "execution_count": 10,
   "id": "0c311656-7905-4701-95b9-7169d955015c",
   "metadata": {},
   "outputs": [
    {
     "data": {
      "text/plain": [
       "\"Ans4:\\ni. Binomial distribution is a distribution in which denotes the probablity distribution for discreate variables. \\nii. In this distribution the probablity mass function is used.\\niii. In this distibution the 'n' number of trials are performed.\\niv. Each trial has probablity of sucess and failure.\\n\\nThe binomial distribution can be used:\\n- Tossing of coin 10 times and then calculating the probablity of success and failure of coming head in each times\\n    coin is tossed\\n- Probablity of goal in football game each time when the football is kicked towards net 'n' number of times.\\n\""
      ]
     },
     "execution_count": 10,
     "metadata": {},
     "output_type": "execute_result"
    }
   ],
   "source": [
    "'''Ans4:\n",
    "i. Binomial distribution is a distribution in which denotes the probablity distribution for discreate variables. \n",
    "ii. In this distribution the probablity mass function is used.\n",
    "iii. In this distibution the 'n' number of trials are performed.\n",
    "iv. Each trial has probablity of sucess and failure.\n",
    "\n",
    "The binomial distribution can be used:\n",
    "- Tossing of coin 10 times and then calculating the probablity of success and failure of coming head in each times\n",
    "    coin is tossed\n",
    "- Probablity of goal in football game each time when the football is kicked towards net 'n' number of times.\n",
    "'''"
   ]
  },
  {
   "cell_type": "code",
   "execution_count": 22,
   "id": "8ebe7d2f-0ebf-4160-99ee-3477d56f5e70",
   "metadata": {},
   "outputs": [
    {
     "data": {
      "image/png": "[encoded data removed]",
      "text/plain": [
       "<Figure size 640x480 with 1 Axes>"
      ]
     },
     "metadata": {},
     "output_type": "display_data"
    }
   ],
   "source": [
    "#Ans5:\n",
    "dta=np.random.binomial(10,0.4,1000)\n",
    "pt.hist(dta)\n",
    "pt.title(\"Binomial Plot\")\n",
    "pt.xlabel(\"Success Number\")\n",
    "pt.ylabel(\"frequency\")\n",
    "pt.show()"
   ]
  },
  {
   "cell_type": "code",
   "execution_count": 30,
   "id": "79255ed7-d60c-4619-b808-97550b4dbb9b",
   "metadata": {},
   "outputs": [
    {
     "data": {
      "text/plain": [
       "0.9961970079383241"
      ]
     },
     "execution_count": 30,
     "metadata": {},
     "output_type": "execute_result"
    }
   ],
   "source": [
    "#Ans6:\n",
    "def cdf(lmda,k):\n",
    "    cdf=0\n",
    "    for i in range(k+1):\n",
    "        pmf=(math.exp(-lmda)*(lmda**i))/(math.factorial(i))\n",
    "        cdf+=pmf\n",
    "    return cdf\n",
    "cdf(3,8)"
   ]
  },
  {
   "cell_type": "code",
   "execution_count": 31,
   "id": "746739f8-d2f3-458c-83bb-f2e56846f377",
   "metadata": {},
   "outputs": [
    {
     "data": {
      "text/plain": [
       "'Ans7: The Binomial distribution is different from poisson distribution in following way:\\n            i. Binomial distribution gives the probablity of success or failure given that the event is repeated for n number of times while poisson \\n                distribution gives the probablity of event occurred in a fixed number of time\\n            ii. Binomial distribution have two parameters probablity of success and number of occurance while poission have only one mean number of \\n                successsion in fixed time interval.\\n            iii. For example the binomial distribution can be applied on the coin tossed for 10 times and probablity of coming head is 0.5 each time \\n                by this we can predict how many times the head comes out of 10 times.\\n                while poission distribution can be apply on number of customer comes to a mall in each time by this we can find when will be most customers\\n                come on next day.\\n'"
      ]
     },
     "execution_count": 31,
     "metadata": {},
     "output_type": "execute_result"
    }
   ],
   "source": [
    "'''Ans7: The Binomial distribution is different from poisson distribution in following way:\n",
    "            i. Binomial distribution gives the probablity of success or failure given that the event is repeated for n number of times while poisson \n",
    "                distribution gives the probablity of event occurred in a fixed number of time\n",
    "            ii. Binomial distribution have two parameters probablity of success and number of occurance while poission have only one mean number of \n",
    "                successsion in fixed time interval.\n",
    "            iii. For example the binomial distribution can be applied on the coin tossed for 10 times and probablity of coming head is 0.5 each time \n",
    "                by this we can predict how many times the head comes out of 10 times.\n",
    "                while poission distribution can be apply on number of customer comes to a mall in each time by this we can find when will be most customers\n",
    "                come on next day.\n",
    "'''"
   ]
  },
  {
   "cell_type": "code",
   "execution_count": 34,
   "id": "e9afbf89-36f1-4198-a377-6bd6afa3a199",
   "metadata": {},
   "outputs": [
    {
     "name": "stdout",
     "output_type": "stream",
     "text": [
      "4.955\n",
      "4.742975\n"
     ]
    }
   ],
   "source": [
    "#Ans8:\n",
    "psn=np.random.poisson(5,1000)\n",
    "sample_mean=np.mean(psn)\n",
    "sample_variance=np.var(psn)\n",
    "print(sample_mean)\n",
    "print(sample_variance)"
   ]
  },
  {
   "cell_type": "code",
   "execution_count": 35,
   "id": "0c64d6d7-a635-4abf-8cbf-6a73ed8f8f25",
   "metadata": {},
   "outputs": [
    {
     "data": {
      "text/plain": [
       "'Ans9:\\n        In poisson distribution the mean and variance both are equal to each other and are calculating using (lambda*t) where the lambda is expected number\\n        of event in fixed time interval and t is time interval\\n        \\n        while in binomial distribution the mean is denoted by n*p \\n                                                                    where n is number of trials\\n                                                                    p is probablity of success\\n        and variance is denoted by n*p*q\\n                                            where q is probablity of failure can also be writted as (1-p) in case of binary output\\n        so in binomial distribution variance = q*mean\\n'"
      ]
     },
     "execution_count": 35,
     "metadata": {},
     "output_type": "execute_result"
    }
   ],
   "source": [
    "'''Ans9:\n",
    "        In poisson distribution the mean and variance both are equal to each other and are calculating using (lambda*t) where the lambda is expected number\n",
    "        of event in fixed time interval and t is time interval\n",
    "        \n",
    "        while in binomial distribution the mean is denoted by n*p \n",
    "                                                                    where n is number of trials\n",
    "                                                                    p is probablity of success\n",
    "        and variance is denoted by n*p*q\n",
    "                                            where q is probablity of failure can also be writted as (1-p) in case of binary output\n",
    "        so in binomial distribution variance = q*mean\n",
    "'''"
   ]
  },
  {
   "cell_type": "code",
   "execution_count": null,
   "id": "e7620df7-d322-4a07-92c7-b8a61be9c63a",
   "metadata": {},
   "outputs": [],
   "source": [
    "'''Ans10: \n",
    "            In normal distribution the least frequent data is present beyond µ-3σ  \n",
    "            \n",
    "            where µ is the mean of distribution.\n",
    "                    σ is the standard distribution.\n",
    "'''"
   ]
  }
 ],
 "metadata": {
  "kernelspec": {
   "display_name": "Python 3 (ipykernel)",
   "language": "python",
   "name": "python3"
  },
  "language_info": {
   "codemirror_mode": {
    "name": "ipython",
    "version": 3
   },
   "file_extension": ".py",
   "mimetype": "text/x-python",
   "name": "python",
   "nbconvert_exporter": "python",
   "pygments_lexer": "ipython3",
   "version": "3.10.8"
  }
 },
 "nbformat": 4,
 "nbformat_minor": 5
}
